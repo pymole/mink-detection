{
 "cells": [
  {
   "cell_type": "code",
   "execution_count": 1,
   "metadata": {},
   "outputs": [],
   "source": [
    "import Augmentor\n",
    "import glob\n",
    "import os\n",
    "from PIL import Image"
   ]
  },
  {
   "cell_type": "code",
   "execution_count": 27,
   "metadata": {},
   "outputs": [],
   "source": [
    "image_dir = os.path.join(os.getcwd(), 'images', 'train1', 'mink')\n",
    "output_dir = os.path.join(os.getcwd(), 'images', 'train1_augmented', 'mink')\n",
    "\n",
    "os.makedirs(output_dir, exist_ok=True)"
   ]
  },
  {
   "cell_type": "code",
   "execution_count": 31,
   "metadata": {},
   "outputs": [],
   "source": [
    "# convert to jpg\n",
    "for image_name in os.listdir(image_dir):\n",
    "    image_path = os.path.join(output_dir, image_name)\n",
    "    if os.path.isfile(image_path):\n",
    "        im = Image.open(image_path)\n",
    "        rgb_im = im.convert('RGB')\n",
    "        rgb_im.save(os.path.splitext(image_path)[0]+'.jpg')"
   ]
  },
  {
   "cell_type": "code",
   "execution_count": 11,
   "metadata": {},
   "outputs": [
    {
     "name": "stderr",
     "output_type": "stream",
     "text": [
      "\r",
      "Executing Pipeline:   0%|          | 0/1174 [00:00<?, ? Samples/s]"
     ]
    },
    {
     "name": "stdout",
     "output_type": "stream",
     "text": [
      "Initialised with 1174 image(s) found.\n",
      "Output directory set to /home/pymole/PycharmProjects/mink-detection/images/train1/mink/output."
     ]
    },
    {
     "name": "stderr",
     "output_type": "stream",
     "text": [
      "Processing <PIL.Image.Image image mode=RGB size=1024x683 at 0x7F5FA80A9100>: 100%|██████████| 1174/1174 [01:10<00:00, 16.68 Samples/s] \n"
     ]
    }
   ],
   "source": [
    "p = Augmentor.Pipeline(image_dir, output_directory=output_dir, save_format='JPEG')\n",
    "\n",
    "p.flip_left_right(probability=1.0)\n",
    "p.process()"
   ]
  },
  {
   "cell_type": "code",
   "execution_count": 25,
   "metadata": {},
   "outputs": [],
   "source": [
    "# move original images to output directory\n",
    "for image_name in glob.glob(os.path.join(image_dir, '*.jpg')):\n",
    "    image_to = os.path.join(output_dir, os.path.basename(image_name))\n",
    "    shutil.copyfile(image_name, image_to)"
   ]
  },
  {
   "cell_type": "code",
   "execution_count": null,
   "metadata": {},
   "outputs": [],
   "source": []
  }
 ],
 "metadata": {
  "kernelspec": {
   "display_name": "Python 3",
   "language": "python",
   "name": "python3"
  },
  "language_info": {
   "codemirror_mode": {
    "name": "ipython",
    "version": 3
   },
   "file_extension": ".py",
   "mimetype": "text/x-python",
   "name": "python",
   "nbconvert_exporter": "python",
   "pygments_lexer": "ipython3",
   "version": "3.8.2"
  }
 },
 "nbformat": 4,
 "nbformat_minor": 4
}
