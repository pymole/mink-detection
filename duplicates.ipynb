{
 "cells": [
  {
   "cell_type": "code",
   "execution_count": 22,
   "metadata": {},
   "outputs": [],
   "source": [
    "import os\n",
    "from PIL import Image\n",
    "from collections import defaultdict \n",
    "import hashlib"
   ]
  },
  {
   "cell_type": "code",
   "execution_count": 2,
   "metadata": {},
   "outputs": [],
   "source": [
    "image_dir = 'images/train/mink'\n",
    "basewidth = 150"
   ]
  },
  {
   "cell_type": "code",
   "execution_count": 35,
   "metadata": {},
   "outputs": [
    {
     "name": "stdout",
     "output_type": "stream",
     "text": [
      "['images/train/mink/632.jpg', 'images/train/mink/286.jpg']\n",
      "['images/train/mink/275.jpg', 'images/train/mink/999.jpg']\n",
      "['images/train/mink/113.jpg', 'images/train/mink/553.jpg', 'images/train/mink/640.jpg']\n",
      "['images/train/mink/844.jpg', 'images/train/mink/247.jpg']\n",
      "['images/train/mink/858.jpg', 'images/train/mink/1076.jpg']\n",
      "['images/train/mink/1211.jpg', 'images/train/mink/432.jpg']\n",
      "['images/train/mink/1177.jpg', 'images/train/mink/1190.jpg', 'images/train/mink/956.jpg']\n",
      "['images/train/mink/994.jpg', 'images/train/mink/13.jpg']\n",
      "['images/train/mink/1083.jpg', 'images/train/mink/91.jpg', 'images/train/mink/588.jpg']\n",
      "['images/train/mink/575.jpg', 'images/train/mink/708.jpg']\n",
      "['images/train/mink/967.jpg', 'images/train/mink/1054.jpg']\n",
      "['images/train/mink/780.jpg', 'images/train/mink/70.jpg']\n",
      "['images/train/mink/120.jpg', 'images/train/mink/195.jpg']\n",
      "['images/train/mink/321.jpg', 'images/train/mink/788.jpg']\n",
      "['images/train/mink/733.jpg', 'images/train/mink/233.jpg']\n",
      "['images/train/mink/18.jpg', 'images/train/mink/1172.jpg']\n",
      "['images/train/mink/292.jpg', 'images/train/mink/736.jpg']\n",
      "['images/train/mink/545.jpg', 'images/train/mink/67.jpg']\n",
      "['images/train/mink/1099.jpg', 'images/train/mink/950.jpg']\n",
      "['images/train/mink/674.jpg', 'images/train/mink/375.jpg']\n",
      "['images/train/mink/758.jpg', 'images/train/mink/344.jpg']\n",
      "['images/train/mink/1097.jpg', 'images/train/mink/1230.jpg']\n",
      "['images/train/mink/1186.jpg', 'images/train/mink/104.jpg']\n",
      "['images/train/mink/627.jpg', 'images/train/mink/568.jpg']\n",
      "['images/train/mink/756.jpg', 'images/train/mink/142.jpg']\n"
     ]
    }
   ],
   "source": [
    "duplicates = defaultdict(list)\n",
    "\n",
    "\n",
    "for img_name in os.listdir(image_dir):\n",
    "    img_path = os.path.join(image_dir, img_name)\n",
    "    \n",
    "    # open image\n",
    "    img = Image.open(img_path)\n",
    "    \n",
    "    # resize with constant width\n",
    "    wpercent = basewidth/float(img.size[0])\n",
    "    hsize = int(img.size[1]*wpercent)\n",
    "    \n",
    "    img = img.resize((basewidth, hsize), Image.ANTIALIAS)\n",
    "    \n",
    "    # convert to greyscale without alpha\n",
    "    img = img.convert('L')\n",
    "    \n",
    "    # round each pixel to nearest to reduce color number\n",
    "    img = img.quantize(4)\n",
    "    img_hash = hashlib.md5(img.tobytes()).hexdigest()\n",
    "    \n",
    "    duplicates[img_hash].append(img_path)\n",
    "\n",
    "\n",
    "for images in duplicates.values():\n",
    "    if len(images) > 1:\n",
    "        print(images)"
   ]
  },
  {
   "cell_type": "code",
   "execution_count": null,
   "metadata": {},
   "outputs": [],
   "source": []
  },
  {
   "cell_type": "code",
   "execution_count": null,
   "metadata": {},
   "outputs": [],
   "source": []
  }
 ],
 "metadata": {
  "kernelspec": {
   "display_name": "Python 3",
   "language": "python",
   "name": "python3"
  },
  "language_info": {
   "codemirror_mode": {
    "name": "ipython",
    "version": 3
   },
   "file_extension": ".py",
   "mimetype": "text/x-python",
   "name": "python",
   "nbconvert_exporter": "python",
   "pygments_lexer": "ipython3",
   "version": "3.8.2"
  }
 },
 "nbformat": 4,
 "nbformat_minor": 4
}
